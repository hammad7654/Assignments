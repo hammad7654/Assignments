{
 "cells": [
  {
   "cell_type": "code",
   "execution_count": 6,
   "id": "c266e1a5-ba39-49ca-b7ea-22469acfee19",
   "metadata": {},
   "outputs": [],
   "source": [
    "## 1. python was developed by Van Rossum in 1991"
   ]
  },
  {
   "cell_type": "code",
   "execution_count": 1,
   "id": "4da2ea38-2e62-40ba-9bd3-d7dc119929b2",
   "metadata": {},
   "outputs": [
    {
     "data": {
      "text/plain": [
       "'\\n2.type of  programming supported by pythons are:\\ni)Dynammic programming: python supports dyanmmic programming i.e. we need not to declare the data type of variable explicitly.\\nii)oops programming\\niii)functional programming\\n\\n'"
      ]
     },
     "execution_count": 1,
     "metadata": {},
     "output_type": "execute_result"
    }
   ],
   "source": [
    "\"\"\"\n",
    "2.type of  programming supported by pythons are:\n",
    "i)Dynammic programming: python supports dyanmmic programming i.e. we need not to declare the data type of variable explicitly.\n",
    "ii)oops programming\n",
    "iii)functional programming\n",
    "\n",
    "\"\"\""
   ]
  },
  {
   "cell_type": "code",
   "execution_count": 2,
   "id": "fd633d70-85e9-4663-a5c7-899c607c8ccf",
   "metadata": {},
   "outputs": [],
   "source": [
    "# 3. yes python is case sensitive when dealing with identifiers.\n"
   ]
  },
  {
   "cell_type": "code",
   "execution_count": 3,
   "id": "1d342f32-3154-4a32-9af1-aee95e1f846b",
   "metadata": {},
   "outputs": [],
   "source": [
    "#4. .py is the extension of python file.\n",
    "#   .ipynb is the extension of python notebook file in jupyter notebook"
   ]
  },
  {
   "cell_type": "code",
   "execution_count": 5,
   "id": "d13e9e3f-b339-49f3-a718-de4aa3c89cad",
   "metadata": {},
   "outputs": [],
   "source": [
    "##5. python is first compiled and then interpreted."
   ]
  },
  {
   "cell_type": "code",
   "execution_count": 7,
   "id": "366d35ba-931b-4be3-9abc-f145d9d9dd9e",
   "metadata": {},
   "outputs": [
    {
     "data": {
      "text/plain": [
       "int"
      ]
     },
     "execution_count": 7,
     "metadata": {},
     "output_type": "execute_result"
    }
   ],
   "source": [
    "## 6. few blocks pf code that can define python language:\n",
    "# we know python is a dyanmmic programming langugae. below we took a variable named 'a' abd assign \n",
    "## a value to it but we havent mention the data type of te variable by=ut still python finds out the data type of a . \n",
    "a=9\n",
    "type(a)"
   ]
  },
  {
   "cell_type": "code",
   "execution_count": 8,
   "id": "906d0bd5-a41d-4cf9-ba0f-2c790847a6dc",
   "metadata": {},
   "outputs": [],
   "source": [
    "# 7. '#\" is used to give single line comment."
   ]
  },
  {
   "cell_type": "code",
   "execution_count": 12,
   "id": "a6a854cb-8442-49a6-b628-c0b2b08d42d6",
   "metadata": {},
   "outputs": [
    {
     "name": "stdout",
     "output_type": "stream",
     "text": [
      "3.10.8 | packaged by conda-forge | (main, Nov 22 2022, 08:26:04) [GCC 10.4.0]\n"
     ]
    }
   ],
   "source": [
    "#8. function to find out which python version i m currently workng on:\n",
    "import sys\n",
    "print (sys.version)\n",
    "\n",
    "# we can also simply type python -- versuon in terminal to know the version of python in window."
   ]
  },
  {
   "cell_type": "code",
   "execution_count": 13,
   "id": "395aee32-8098-4673-8a9e-3120e1fa06ad",
   "metadata": {},
   "outputs": [],
   "source": [
    "# 9. Python supports the creation of anonymous functions at runtime, using a constructor called Lambda."
   ]
  },
  {
   "cell_type": "code",
   "execution_count": 14,
   "id": "6d8c17eb-90c5-4ec0-824f-fc3b1ab8b6e8",
   "metadata": {},
   "outputs": [],
   "source": [
    "# 10 The full-form of pip is pip installs packages. \n",
    "# It is a recursive acronym, that can also mean pip installs python or preferred installer program."
   ]
  },
  {
   "cell_type": "code",
   "execution_count": 26,
   "id": "d9601462-b067-4b9e-9a88-1b622020de35",
   "metadata": {},
   "outputs": [],
   "source": [
    "# 11. built in functions in python.\n",
    "# i) for strings built in functions are: .upper(),.lower(),.capitalize(),.title(),len() etc.\n",
    "# ii) built in functions in lists: .append(),.sort(),.reverse(),.insert(),.extend(),.pop() etc.\n"
   ]
  },
  {
   "cell_type": "code",
   "execution_count": 27,
   "id": "f60f9193-61c1-4ad6-b2f4-7c7e2c1c5bfe",
   "metadata": {},
   "outputs": [],
   "source": [
    "# 12. In Python, the highest possible length of an identifier is 79 characters. "
   ]
  },
  {
   "cell_type": "code",
   "execution_count": 30,
   "id": "d9a16467-ac8a-4970-b8e6-e46c2ace6fec",
   "metadata": {},
   "outputs": [
    {
     "data": {
      "text/plain": [
       "' \\ni)VERSATILITY\\nii)WORK WITH LESS CODE\\niii)EASY INTEGRATIONS\\niv)Easy to learn and understand\\nv)Excellent standard libraries\\nvi)supports excellent visualisation using libraries like matplotlib,seaboen etc.\\nvii) various inbuilt statistical fuction.\\n\\n'"
      ]
     },
     "execution_count": 30,
     "metadata": {},
     "output_type": "execute_result"
    }
   ],
   "source": [
    "# 13. benefits of using python :\n",
    "\"\"\" \n",
    "i)VERSATILITY\n",
    "ii)WORK WITH LESS CODE\n",
    "iii)EASY INTEGRATIONS\n",
    "iv)Easy to learn and understand\n",
    "v)Excellent standard libraries\n",
    "vi)supports excellent visualisation using libraries like matplotlib,seaboen etc.\n",
    "vii) various inbuilt statistical fuction.\n",
    "\n",
    "\"\"\""
   ]
  },
  {
   "cell_type": "code",
   "execution_count": 1,
   "id": "838db3bf-42e6-4234-94f6-d449b460b75a",
   "metadata": {},
   "outputs": [],
   "source": [
    "# 14. Memory allocation can be defined as allocating a block of space in the computer memory to a program. \n",
    "#In Python memory allocation and deallocation method is automatic as the Python developers created a\n",
    "#garbage collector for Python so that the user does not have to do manual garbage collection.\n",
    "# Garbage collection is a process in which the interpreter frees up the memory when not in use to make it available for other objects.\n",
    "\n"
   ]
  },
  {
   "cell_type": "code",
   "execution_count": 2,
   "id": "f0241212-4a23-4142-a902-60a823a1e8df",
   "metadata": {},
   "outputs": [
    {
     "data": {
      "text/plain": [
       "'\\n> to install python on windows simple go to the python.org website to download and install your preferred version of python.\\n> Once Python is successfully installed on your PC, check if it\\'s already added to the Windows PATH.\\nOpen up your terminal and type python, then hit the Enter key.\\nThe command might return an error that says \"\\'python\\' is not recognized as an internal or external command, operable program or batch file,\\n\" indicating that Python isn\\'t added to your machine\\'s PATH variable yet.\\n> To add Python to your Windows PATH, you need to get its installation path. To do that, open up the Windows search bar and type python.exe (don\\'t hit the Enter key).\\nThen right-click on Python.exe that pops up in the resulting menu and select the Open file location option.\\n>In the Explorer windows that opens, click on the long directory bar to the left of the search bar. \\nHighlight and copy the entire path text to your clipboard with Ctrl + c. Then continue with the next steps below.\\n>To add Python to the PATH in User variables, right-click on This PC, and select Properties. Once in the properties menu, click on the Advanced system settings option. \\nIn the next window, select the Advanced tab, and select Environment Variables.\\n>The Environment Variables menu has two distinct parts: an upper part called User variables, and a lower part named System variables. However, our focus is on the User variables in this case.\\n>Within the User variables menu, locate a variable called Path. Then paste the path you copied earlier in the Variable value option using Ctrl + v and click Ok.\\n\\n\\n'"
      ]
     },
     "execution_count": 2,
     "metadata": {},
     "output_type": "execute_result"
    }
   ],
   "source": [
    "# 15. \n",
    "\"\"\"\n",
    "> to install python on windows simple go to the python.org website to download and install your preferred version of python.\n",
    "> Once Python is successfully installed on your PC, check if it's already added to the Windows PATH.\n",
    "Open up your terminal and type python, then hit the Enter key.\n",
    "The command might return an error that says \"'python' is not recognized as an internal or external command, operable program or batch file,\n",
    "\" indicating that Python isn't added to your machine's PATH variable yet.\n",
    "> To add Python to your Windows PATH, you need to get its installation path. To do that, open up the Windows search bar and type python.exe (don't hit the Enter key).\n",
    "Then right-click on Python.exe that pops up in the resulting menu and select the Open file location option.\n",
    ">In the Explorer windows that opens, click on the long directory bar to the left of the search bar. \n",
    "Highlight and copy the entire path text to your clipboard with Ctrl + c. Then continue with the next steps below.\n",
    ">To add Python to the PATH in User variables, right-click on This PC, and select Properties. Once in the properties menu, click on the Advanced system settings option. \n",
    "In the next window, select the Advanced tab, and select Environment Variables.\n",
    ">The Environment Variables menu has two distinct parts: an upper part called User variables, and a lower part named System variables. However, our focus is on the User variables in this case.\n",
    ">Within the User variables menu, locate a variable called Path. Then paste the path you copied earlier in the Variable value option using Ctrl + v and click Ok.\n",
    "\n",
    "\n",
    "\"\"\""
   ]
  },
  {
   "cell_type": "code",
   "execution_count": 3,
   "id": "8849a8b1-861f-4529-8669-388a730f0f20",
   "metadata": {},
   "outputs": [],
   "source": [
    "# 16.\n",
    "#yes ,indentation is required in python otherwise it will show indentation error."
   ]
  },
  {
   "cell_type": "code",
   "execution_count": null,
   "id": "90c5d2db-5c59-41ef-9007-25e5e8f82960",
   "metadata": {},
   "outputs": [],
   "source": []
  }
 ],
 "metadata": {
  "kernelspec": {
   "display_name": "Python 3 (ipykernel)",
   "language": "python",
   "name": "python3"
  },
  "language_info": {
   "codemirror_mode": {
    "name": "ipython",
    "version": 3
   },
   "file_extension": ".py",
   "mimetype": "text/x-python",
   "name": "python",
   "nbconvert_exporter": "python",
   "pygments_lexer": "ipython3",
   "version": "3.10.8"
  }
 },
 "nbformat": 4,
 "nbformat_minor": 5
}
