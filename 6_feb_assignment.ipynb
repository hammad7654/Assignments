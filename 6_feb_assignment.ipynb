{
 "cells": [
  {
   "cell_type": "markdown",
   "id": "a45675d8-cafe-4b0a-ac8d-1c020297774a",
   "metadata": {},
   "source": [
    "\"\"\"Q1. Create a function which will take a list as an argument and return the product of all the numbers\n",
    "after creating a flat list.\n",
    "Use the below-given list as an argument for your function.\n",
    "list1 = [1,2,3,4, [44,55,66, True], False, (34,56,78,89,34), {1,2,3,3,2,1}, {1:34, \"key2\": [55, 67, 78, 89], 4: (45,\n",
    "22, 61, 34)}, [56, 'data science'], 'Machine Learning']\n",
    "Note: you must extract numeric keys and values of the dictionary also.\"\"\""
   ]
  },
  {
   "cell_type": "code",
   "execution_count": 1,
   "id": "7ad4c9a5-4aa3-48ef-89f4-d83473d0fd96",
   "metadata": {},
   "outputs": [
    {
     "data": {
      "text/plain": [
       "[1,\n",
       " 2,\n",
       " 3,\n",
       " 4,\n",
       " 44,\n",
       " 55,\n",
       " 66,\n",
       " 34,\n",
       " 56,\n",
       " 78,\n",
       " 89,\n",
       " 34,\n",
       " 1,\n",
       " 2,\n",
       " 3,\n",
       " 34,\n",
       " 55,\n",
       " 67,\n",
       " 78,\n",
       " 89,\n",
       " 45,\n",
       " 22,\n",
       " 61,\n",
       " 34,\n",
       " 1,\n",
       " 4,\n",
       " 56]"
      ]
     },
     "execution_count": 1,
     "metadata": {},
     "output_type": "execute_result"
    }
   ],
   "source": [
    "list1 = [1,2,3,4, [44,55,66, True], False, (34,56,78,89,34), {1,2,3,3,2,1}, {1:34, \"key2\": [55, 67, 78, 89], 4: (45,\n",
    "22, 61, 34)}, [56, 'data science'], 'Machine Learning']\n",
    "\n",
    "\n",
    "def numeric_list(l):\n",
    "    l1=[]\n",
    "    for i in l:\n",
    "        if type(i)==int or type(i)==float:\n",
    "            l1.append(i)\n",
    "        elif type(i)==list or type(i)==tuple or type(i)==set :\n",
    "            for j in i:\n",
    "                if type(j)==int or type(j)==float:\n",
    "                    l1.append(j)\n",
    "        elif type(i)==dict:\n",
    "            for k in i.values():\n",
    "                if type(k)==int or type(k)==float:\n",
    "                    l1.append(k)\n",
    "                elif type(k)==list or type(k)==tuple or type(k)==set:\n",
    "                    for l in k:\n",
    "                        if type(l)==int or type(l)==float:\n",
    "                            l1.append(l)\n",
    "            for m in i.keys():\n",
    "                if type(m)==int or type(m)==float:\n",
    "                    l1.append(m)\n",
    "    return l1            \n",
    "numeric_list(list1)           "
   ]
  },
  {
   "cell_type": "code",
   "execution_count": null,
   "id": "05c86cdf-16c9-453f-82b4-937e78e6974a",
   "metadata": {},
   "outputs": [],
   "source": [
    "\"\"\"Q2. Write a python program for encrypting a message sent to you by your friend. The logic of encryption\n",
    "should be such that, for a the output should be z. For b, the output should be y. For c, the output should\n",
    "be x respectively. Also, the whitespace should be replaced with a dollar sign. Keep the punctuation\n",
    "marks unchanged.\n",
    "Input Sentence: I want to become a Data Scientist.\n",
    "Encrypt the above input sentence using the program you just created.\n",
    "Note: Convert the given input sentence into lowercase before encrypting. The final output should be\n",
    "lowercase.\"\"\""
   ]
  },
  {
   "cell_type": "code",
   "execution_count": 2,
   "id": "b3914f9b-fa67-45c3-aa6a-3da38678df88",
   "metadata": {},
   "outputs": [
    {
     "name": "stdout",
     "output_type": "stream",
     "text": [
      "r dzmg gl yvxlnv z wzgz hxrvmgrhg.\n"
     ]
    }
   ],
   "source": [
    "def encrypt_message(message):\n",
    "    message = message.lower()\n",
    "    encrypted_message = ''\n",
    "    for char in message:\n",
    "        if char == ' ':\n",
    "            encrypted_message += ' '\n",
    "        elif char.isalpha():\n",
    "            encrypted_char = chr(ord('a') + (25 - (ord(char) - ord('a'))))\n",
    "            encrypted_message += encrypted_char\n",
    "        else:\n",
    "            encrypted_message += char\n",
    "    return encrypted_message\n",
    "input_sentence = \"I want to become a Data Scientist.\"\n",
    "encrypted_sentence = encrypt_message(input_sentence)\n",
    "print(encrypted_sentence)"
   ]
  }
 ],
 "metadata": {
  "kernelspec": {
   "display_name": "Python 3 (ipykernel)",
   "language": "python",
   "name": "python3"
  },
  "language_info": {
   "codemirror_mode": {
    "name": "ipython",
    "version": 3
   },
   "file_extension": ".py",
   "mimetype": "text/x-python",
   "name": "python",
   "nbconvert_exporter": "python",
   "pygments_lexer": "ipython3",
   "version": "3.10.8"
  }
 },
 "nbformat": 4,
 "nbformat_minor": 5
}
