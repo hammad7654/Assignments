{
 "cells": [
  {
   "cell_type": "code",
   "execution_count": 6,
   "id": "6e462bee-418c-41c6-8d1a-d3712b30a434",
   "metadata": {},
   "outputs": [
    {
     "data": {
      "text/plain": [
       "[1, 3, 5, 7, 9, 11, 13, 15, 17, 19, 21, 23]"
      ]
     },
     "execution_count": 6,
     "metadata": {},
     "output_type": "execute_result"
    }
   ],
   "source": [
    "##Q1. Which keyword is used to create a function? Create a function to return a list of odd numbers in the\n",
    "##    range of 1 to 25.\n",
    "# 'def' keyword is used to create function.\n",
    "def oddnumber():\n",
    "    l=[]\n",
    "    for i in range(1,25,2):\n",
    "        l.append(i)\n",
    "    return l\n",
    "oddnumber()"
   ]
  },
  {
   "cell_type": "code",
   "execution_count": 77,
   "id": "b5e1bc91-98ef-4a8c-aff8-56aa19fd52ba",
   "metadata": {},
   "outputs": [
    {
     "data": {
      "text/plain": [
       "{'a': [1, 2, 3, 4], 'b': ['datscience', 'web', 'quantum', 'calculas']}"
      ]
     },
     "execution_count": 77,
     "metadata": {},
     "output_type": "execute_result"
    }
   ],
   "source": [
    "##Q2. Why *args and **kwargs is used in some functions? Create a function each for *args and **kwargs\n",
    "##    to demonstrate their use.\n",
    "\"\"\"\n",
    "*args- *args can be used to when we dont know the exact no. of arguments that is to be passed in a function.\n",
    "       *args enables us to pass 'n' numbers of arguments in a fucntion.\n",
    "       *args stores given arguments in the form of tuples \"\"\"\n",
    "def test1(*args):\n",
    "    return args \n",
    "type(test1())\n",
    "test1(1,2,3,4,\"pwskills\",\"datascience\",\"artificial inteligence\",[1,2,3,4,7])\n",
    "\"\"\"\n",
    "**kwargs -it is also used to pass n no. of arguments in a function but in key-value pair as it stores data in  the form of dictionary.\n",
    "\"\"\"\n",
    "def test2(**kwargs):\n",
    "    return kwargs\n",
    "type(test2())\n",
    "test2(a=[1,2,3,4],b=[\"datscience\",\"web\",\"quantum\",\"calculas\"])"
   ]
  },
  {
   "cell_type": "code",
   "execution_count": 78,
   "id": "2d089cc3-e2de-4e58-b796-ee7e647fdab8",
   "metadata": {},
   "outputs": [
    {
     "name": "stdout",
     "output_type": "stream",
     "text": [
      "2\n",
      "4\n",
      "6\n",
      "8\n",
      "10\n"
     ]
    }
   ],
   "source": [
    "##Q3. What is an iterator in python? Name the method used to initialise the iterator object and the method\n",
    "##    used for iteration. Use these methods to print the first five elements of the given list [2, 4, 6, 8, 10, 12, 14,\n",
    "##    16, 18, 20].\n",
    "\"\"\" iterator are those in which we can get next element by next() method. iterable objects can only be converted into iterator.\n",
    "iter() method is used to convert a iteratble objects into iterator.\n",
    "next() method ia used to access the elements of iterator.\n",
    "\n",
    "\"\"\"\n",
    "list= [2, 4, 6, 8, 10, 12, 14,16, 18, 20]\n",
    "a=iter(list)\n",
    "print(next(a))\n",
    "print(next(a))\n",
    "print(next(a))\n",
    "print(next(a))\n",
    "print(next(a))"
   ]
  },
  {
   "cell_type": "code",
   "execution_count": 110,
   "id": "f76acb31-c80e-4649-bf58-b128ff98bbee",
   "metadata": {},
   "outputs": [
    {
     "name": "stdout",
     "output_type": "stream",
     "text": [
      "0\n",
      "1\n",
      "2\n",
      "3\n",
      "4\n",
      "5\n",
      "6\n",
      "7\n",
      "8\n",
      "9\n"
     ]
    }
   ],
   "source": [
    "## Q4. What is a generator function in python? Why yield keyword is used? Give an example of a generator\n",
    "##       function.\n",
    "\"\"\" genrator function is used to genrate the outcome continuosly without holding everything into a memory.\n",
    "    it makes the efficient use of memory.\n",
    "\"\"\"\n",
    "def square(a,b):\n",
    "    yield a*b\n",
    "a=square(2,3)\n",
    "next(a)\n",
    "def gen(n):\n",
    "    for i in range(n) :\n",
    "        yield i\n",
    "b=gen(10)\n",
    "for i in b:\n",
    "    print(i)"
   ]
  },
  {
   "cell_type": "code",
   "execution_count": 24,
   "id": "1fd8cc4f-47de-4940-bf14-6005e4cae208",
   "metadata": {},
   "outputs": [
    {
     "name": "stdout",
     "output_type": "stream",
     "text": [
      "2\n",
      "3\n",
      "5\n",
      "7\n",
      "11\n",
      "13\n",
      "17\n",
      "19\n",
      "23\n",
      "29\n",
      "31\n",
      "37\n",
      "41\n",
      "43\n",
      "47\n",
      "53\n",
      "59\n",
      "61\n",
      "67\n",
      "71\n"
     ]
    }
   ],
   "source": [
    "## Q5. Create a generator function for prime numbers less than 1000. Use the next() method to print the\n",
    "##     first 20 prime numbers.\n",
    "def isprime(num):\n",
    "    while num<1000:\n",
    "            for i in range(2,num):\n",
    "                if num%i==0:\n",
    "                    return False\n",
    "            return True\n",
    "def genrator_prime(n):\n",
    "    num=2\n",
    "    while n:\n",
    "        if isprime(num):\n",
    "            yield num \n",
    "            n=n-1\n",
    "        num=num+1\n",
    "    return \n",
    "a=genrator_prime(20)\n",
    "print(next(a))\n",
    "print(next(a))\n",
    "print(next(a))\n",
    "print(next(a))\n",
    "print(next(a))\n",
    "print(next(a))\n",
    "print(next(a))\n",
    "print(next(a))\n",
    "print(next(a))\n",
    "print(next(a))\n",
    "print(next(a))\n",
    "print(next(a))\n",
    "print(next(a))\n",
    "print(next(a))\n",
    "print(next(a))\n",
    "print(next(a))\n",
    "print(next(a))\n",
    "print(next(a))\n",
    "print(next(a))\n",
    "print(next(a))"
   ]
  },
  {
   "cell_type": "code",
   "execution_count": 70,
   "id": "fd36df27-ac44-4098-88b1-5a5b7283b3b9",
   "metadata": {},
   "outputs": [
    {
     "name": "stdout",
     "output_type": "stream",
     "text": [
      "0\n",
      "1\n",
      "1\n",
      "2\n",
      "3\n",
      "5\n",
      "8\n",
      "13\n",
      "21\n",
      "34\n"
     ]
    }
   ],
   "source": [
    "## Q6. Write a python program to print the first 10 Fibonacci numbers using a while loop.\n",
    "n=10\n",
    "a,b=0,1\n",
    "count=0\n",
    "while count<n:\n",
    "    print(a)\n",
    "    c = a+ b\n",
    "    a = b \n",
    "    b = c \n",
    "    count+=1\n",
    "        "
   ]
  },
  {
   "cell_type": "code",
   "execution_count": 25,
   "id": "1ae2f085-2c80-4d4b-92c4-368dc118fb98",
   "metadata": {},
   "outputs": [
    {
     "data": {
      "text/plain": [
       "['p', 'w', 's', 'k', 'i', 'l', 'l', 's']"
      ]
     },
     "execution_count": 25,
     "metadata": {},
     "output_type": "execute_result"
    }
   ],
   "source": [
    "## Q7. Write a List Comprehension to iterate through the given string: ‘pwskills’.\n",
    "[i for i in \"pwskills\"]"
   ]
  },
  {
   "cell_type": "code",
   "execution_count": 71,
   "id": "076ede08-3434-4162-9f32-cd4c90e5652d",
   "metadata": {},
   "outputs": [
    {
     "name": "stdin",
     "output_type": "stream",
     "text": [
      "enter the number 98\n"
     ]
    },
    {
     "name": "stdout",
     "output_type": "stream",
     "text": [
      "not a palindrome\n"
     ]
    }
   ],
   "source": [
    "## Q8. Write a python program to check whether a given number is Palindrome or not using a while loop.\n",
    "n=int(input(\"enter the number\"))\n",
    "a=n\n",
    "count=0\n",
    "while a>0:\n",
    "    a=int(a/10)\n",
    "    count=count+1\n",
    "count \n",
    "d=0\n",
    "b=n\n",
    "while b>0:\n",
    "    x=b%10\n",
    "    d=d+10**(count-1)*x\n",
    "    count=count-1\n",
    "    b=int(b/10)\n",
    "if d==n:\n",
    "    print(\"palindrome number\")\n",
    "else :\n",
    "    print(\"not a palindrome\")"
   ]
  },
  {
   "cell_type": "code",
   "execution_count": 67,
   "id": "3c3e2240-ba52-483e-9cd4-f32df0dc519f",
   "metadata": {},
   "outputs": [],
   "source": [
    "## Q9. Write a code to print odd numbers from 1 to 100 using list comprehension.\n",
    "## Note: Use a list comprehension to create a list from 1 to 100 and use another List comprehension to filter\n",
    "## out odd numbers.\n",
    "l=[x for x in range(1,100)]\n",
    "#l1=filter(lambda x:x%2==0,l)\n",
    "#l2=[x for x in l if x%2==0]\n",
    "l3=[filter(lambda x :x%2==0,l)]\n"
   ]
  },
  {
   "cell_type": "code",
   "execution_count": null,
   "id": "f7206a8f-e720-4494-b044-51ac23a0f0db",
   "metadata": {},
   "outputs": [],
   "source": []
  }
 ],
 "metadata": {
  "kernelspec": {
   "display_name": "Python 3 (ipykernel)",
   "language": "python",
   "name": "python3"
  },
  "language_info": {
   "codemirror_mode": {
    "name": "ipython",
    "version": 3
   },
   "file_extension": ".py",
   "mimetype": "text/x-python",
   "name": "python",
   "nbconvert_exporter": "python",
   "pygments_lexer": "ipython3",
   "version": "3.10.8"
  }
 },
 "nbformat": 4,
 "nbformat_minor": 5
}
