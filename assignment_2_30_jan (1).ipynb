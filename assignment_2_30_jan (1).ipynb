{
 "cells": [
  {
   "cell_type": "code",
   "execution_count": 21,
   "id": "3a800141-8882-4931-b9e5-562d8db996a8",
   "metadata": {},
   "outputs": [
    {
     "name": "stdin",
     "output_type": "stream",
     "text": [
      "enter your percent: 67\n"
     ]
    },
    {
     "name": "stdout",
     "output_type": "stream",
     "text": [
      "Grade D\n"
     ]
    }
   ],
   "source": [
    "##1\n",
    "percentage=int(input(\"enter your percent:\"))\n",
    "mark=(percentage*100)/100\n",
    "if mark>90:\n",
    "    print(\"Grade A\")\n",
    "elif mark>80 and mark<=90:\n",
    "    print(\"Grade B\")\n",
    "elif mark>70 and mark<=80:\n",
    "    print(\"Grade C\")\n",
    "else :\n",
    "    print(\"Grade D\")\n"
   ]
  },
  {
   "cell_type": "code",
   "execution_count": 9,
   "id": "f53763cb-96d5-405e-a0b2-0f3a7e291296",
   "metadata": {},
   "outputs": [
    {
     "name": "stdin",
     "output_type": "stream",
     "text": [
      "enter the cost price of the bike: 60000\n"
     ]
    },
    {
     "name": "stdout",
     "output_type": "stream",
     "text": [
      "road tax to be paid: 6000.0\n"
     ]
    }
   ],
   "source": [
    "##2\n",
    "cost=int(input(\"enter the cost price of the bike:\"))\n",
    "if cost>100000:\n",
    "    print(\"road tax to be paid :\",(15*cost)/100)\n",
    "elif cost>50000 and cost<=100000:\n",
    "    print(\"road tax to be paid:\",(10*cost)/100)\n",
    "elif cost <=50000:\n",
    "    print(\"road tax to be paid:\",(5*cost)/100)\n",
    "else:\n",
    "    print(\"plz enter valid cost price\")"
   ]
  },
  {
   "cell_type": "code",
   "execution_count": 20,
   "id": "f795778d-4a1d-401a-8880-04909138943e",
   "metadata": {},
   "outputs": [
    {
     "name": "stdin",
     "output_type": "stream",
     "text": [
      "enter city: delhi\n"
     ]
    },
    {
     "name": "stdout",
     "output_type": "stream",
     "text": [
      "Red Fort\n"
     ]
    }
   ],
   "source": [
    "##3\n",
    "city=input(\"enter city:\")\n",
    "if city==\"Delhi\" or city==\"Delhi\".upper() or city==\"Delhi\".lower():\n",
    "    print(\"Red Fort\")\n",
    "elif city==\"Agra\" or city==\"Agra\".upper() or city==\"Agra\".lower():\n",
    "    print(\"Taj Mahal\")\n",
    "elif city==\"Jaipur\" or city==\"Jaipur\".lower() or city==\"Jaipur\".upper():\n",
    "    print(\"Hawa Mahal\")\n",
    "else:\n",
    "    print(\"sorry no record\")"
   ]
  },
  {
   "cell_type": "code",
   "execution_count": 9,
   "id": "165708e3-a6c1-4fc3-bf70-5ac536829853",
   "metadata": {},
   "outputs": [
    {
     "name": "stdin",
     "output_type": "stream",
     "text": [
      "enter the number: 90\n"
     ]
    },
    {
     "name": "stdout",
     "output_type": "stream",
     "text": [
      "the given number is divisible by 3 before it is <= 10 is: 2\n"
     ]
    }
   ],
   "source": [
    "##4\n",
    "num=int(input(\"enter the number:\"))\n",
    "count=0\n",
    "while num>10:\n",
    "    if num%3==0:\n",
    "        count=count+1\n",
    "    else :\n",
    "        break\n",
    "    num=num/3    \n",
    "print(\"the given number is divisible by 3 before it is <= 10 is:\",count)       "
   ]
  },
  {
   "cell_type": "code",
   "execution_count": 4,
   "id": "946e925f-9745-42de-8120-bef506c954fa",
   "metadata": {},
   "outputs": [
    {
     "name": "stdin",
     "output_type": "stream",
     "text": [
      "enter your name: hamaeqrw4253\n"
     ]
    },
    {
     "name": "stdout",
     "output_type": "stream",
     "text": [
      "plzz enter a valid name\n"
     ]
    },
    {
     "name": "stdin",
     "output_type": "stream",
     "text": [
      "enter your name: 5535\n"
     ]
    },
    {
     "name": "stdout",
     "output_type": "stream",
     "text": [
      "plzz enter a valid name\n"
     ]
    },
    {
     "name": "stdin",
     "output_type": "stream",
     "text": [
      "enter your name: hammad\n"
     ]
    },
    {
     "name": "stdout",
     "output_type": "stream",
     "text": [
      "hammad\n"
     ]
    }
   ],
   "source": [
    "##5\n",
    "# why and when  to you use whiile loop in python.\n",
    "\"\"\" we can use while loop in the case where we dont know the no. of iteration. \n",
    "example : let us suppose that we want to take name from user but the the name should contains only string no integer or alphanumeric.\n",
    "          here in the above example we dont know the exact no. of times user will enter the correct name .\n",
    "\"\"\"\n",
    "while True:\n",
    "    name=input(\"enter your name:\")\n",
    "    if name.isalpha():\n",
    "        print(name)\n",
    "        break\n",
    "    else :\n",
    "        print(\"plzz enter a valid name\")\n"
   ]
  },
  {
   "cell_type": "code",
   "execution_count": 39,
   "id": "a44209dc-eec2-4373-ae9b-a784693acb07",
   "metadata": {},
   "outputs": [
    {
     "name": "stdin",
     "output_type": "stream",
     "text": [
      "enter the no. of rows you want to have pattern: 5\n"
     ]
    },
    {
     "name": "stdout",
     "output_type": "stream",
     "text": [
      "*\n",
      "**\n",
      "***\n",
      "****\n",
      "*****\n"
     ]
    }
   ],
   "source": [
    "## 6\n",
    "# use nested while loop to print three different pattern \n",
    "# pattern 1:Half pyramid star patten\n",
    "n=int(input(\"enter the no. of rows you want to have pattern:\"))\n",
    "i=1\n",
    "while i<=n:\n",
    "    j=1\n",
    "    while j<=i:\n",
    "        print(\"*\",end=\"\")\n",
    "        j+=1\n",
    "    print()\n",
    "    i+=1"
   ]
  },
  {
   "cell_type": "code",
   "execution_count": 40,
   "id": "21f70945-062e-46af-8e2a-0ff2cbf78705",
   "metadata": {},
   "outputs": [
    {
     "name": "stdin",
     "output_type": "stream",
     "text": [
      "enter the no. of rows you want to have pattern : 5\n"
     ]
    },
    {
     "name": "stdout",
     "output_type": "stream",
     "text": [
      "*****\n",
      "****\n",
      "***\n",
      "**\n",
      "*\n"
     ]
    }
   ],
   "source": [
    "##6 \n",
    "## pattern 2: reverse half pyramid\n",
    "n=int(input(\"enter the no. of rows you want to have pattern :\"))\n",
    "i=n\n",
    "while i>0:\n",
    "    j=1\n",
    "    while j<=i:\n",
    "        print(\"*\",end=\"\")\n",
    "        j=j+1\n",
    "    print()\n",
    "    i=i-1"
   ]
  },
  {
   "cell_type": "code",
   "execution_count": 33,
   "id": "67482b7b-7526-4281-a483-83a9ddae142e",
   "metadata": {},
   "outputs": [
    {
     "name": "stdin",
     "output_type": "stream",
     "text": [
      "enter the no. of rows:  5\n"
     ]
    },
    {
     "name": "stdout",
     "output_type": "stream",
     "text": [
      "    *\n",
      "   **\n",
      "  ***\n",
      " ****\n",
      "*****\n"
     ]
    }
   ],
   "source": [
    "# 6\n",
    "# pattern 3\n",
    "i=1\n",
    "n=int(input(\"enter the no. of rows: \"))\n",
    "while i<=n:\n",
    "    print(\" \"*(n-i)+\"*\" * i)\n",
    "    i+=1"
   ]
  },
  {
   "cell_type": "code",
   "execution_count": 29,
   "id": "df4dd36d-351d-4b8e-bf1f-2da768c3ca87",
   "metadata": {},
   "outputs": [
    {
     "name": "stdout",
     "output_type": "stream",
     "text": [
      "10\n",
      "9\n",
      "8\n",
      "7\n",
      "6\n",
      "5\n",
      "4\n",
      "3\n",
      "2\n",
      "1\n"
     ]
    }
   ],
   "source": [
    " ## 7 reverse a while loop to display numbers from 10 to 1\n",
    "i=10\n",
    "while i>0:\n",
    "    print(i)\n",
    "    i-=1\n",
    "    "
   ]
  },
  {
   "cell_type": "code",
   "execution_count": null,
   "id": "cccc84ff-31b2-4acd-b55e-3eb0c8a379da",
   "metadata": {},
   "outputs": [],
   "source": []
  },
  {
   "cell_type": "code",
   "execution_count": null,
   "id": "a1a550bb-184c-4c02-b5a2-4d9852115fc9",
   "metadata": {},
   "outputs": [],
   "source": []
  }
 ],
 "metadata": {
  "kernelspec": {
   "display_name": "Python 3 (ipykernel)",
   "language": "python",
   "name": "python3"
  },
  "language_info": {
   "codemirror_mode": {
    "name": "ipython",
    "version": 3
   },
   "file_extension": ".py",
   "mimetype": "text/x-python",
   "name": "python",
   "nbconvert_exporter": "python",
   "pygments_lexer": "ipython3",
   "version": "3.10.8"
  }
 },
 "nbformat": 4,
 "nbformat_minor": 5
}
