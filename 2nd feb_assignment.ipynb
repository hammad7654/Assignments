{
 "cells": [
  {
   "cell_type": "code",
   "execution_count": 9,
   "id": "4632b2bc-3ebe-4b9b-8d67-d89ae0f2f73d",
   "metadata": {},
   "outputs": [
    {
     "name": "stdin",
     "output_type": "stream",
     "text": [
      "enter the username: hammad\n",
      "enter your password: farid\n"
     ]
    },
    {
     "name": "stdout",
     "output_type": "stream",
     "text": [
      "invalid username or password\n"
     ]
    },
    {
     "name": "stdin",
     "output_type": "stream",
     "text": [
      "enter the username: username\n",
      "enter your password: password\n"
     ]
    },
    {
     "name": "stdout",
     "output_type": "stream",
     "text": [
      "login sucessfully\n"
     ]
    }
   ],
   "source": [
    "##1\n",
    "#when to use for loop and when to use while loop\n",
    "# for loop: we use for loop when we know the no. of iterations and\n",
    "#we use use while loop when we dont know exact no. of iterations but we know the stopping conditions.\n",
    "# while loop first checks the condition and if its condition is true then then it is executed while\n",
    "#for loop iterates over the specified range.\n",
    "# for loop more useful and easy when we have to iterate over the iterable objects like list,tuple ,string etc.\n",
    "\"\"\"l=list(range(1,11))\n",
    "for i in l:\n",
    "    print(i)\n",
    "# using while loop: using while loop also we can get the same result but it requires more line of code .\n",
    "i=1\n",
    "while i<11:\n",
    "    print(l[i])\n",
    "    i=i+1\"\"\"\n",
    "# while loop is useful when we dont know the exact no. of iterations. example: suppose we want to enter the username and password \n",
    "while True:\n",
    "    username=input(\"enter the username:\")\n",
    "    password=input(\"enter your password:\")\n",
    "    if username==\"username\" and password==\"password\":\n",
    "        print(\"login sucessfully\")\n",
    "        break\n",
    "    else :\n",
    "        print(\"invalid username or password\")\n",
    "# in the above case we dont know the exact number of times when the user will enter the correct username and password.hence we had used while loop.\n",
    "        \n",
    "    "
   ]
  },
  {
   "cell_type": "code",
   "execution_count": 13,
   "id": "a0e240ea-b358-473c-b6b0-c7ac07d558d9",
   "metadata": {},
   "outputs": [
    {
     "name": "stdout",
     "output_type": "stream",
     "text": [
      "the sum of first 10 natural nos. is : 55\n",
      "the product of first 10 natural nos. is : 3628800\n"
     ]
    }
   ],
   "source": [
    "##2.\n",
    "#python program to find te sum and product of first 10 natural nos. using for loop:\n",
    "sum=0\n",
    "product=1\n",
    "for i in range(1,11):\n",
    "    sum=sum+i\n",
    "    product=product*i\n",
    "print(\"the sum of first 10 natural nos. is :\",sum)\n",
    "print(\"the product of first 10 natural nos. is :\",product)"
   ]
  },
  {
   "cell_type": "code",
   "execution_count": 14,
   "id": "ec5cbc8e-4194-46d4-824d-7415054060c2",
   "metadata": {},
   "outputs": [
    {
     "name": "stdout",
     "output_type": "stream",
     "text": [
      "the sum of first 10 natural nos. is : 55\n",
      "the product of first 10 natural nos. is : 3628800\n"
     ]
    }
   ],
   "source": [
    "#2\n",
    "#python program to find te sum and product of first 10 natural nos. using while loop:\n",
    "sum=0\n",
    "product=1\n",
    "i=1\n",
    "while i<=10:\n",
    "    sum=sum+i\n",
    "    product=product*i\n",
    "    i+=1\n",
    "print(\"the sum of first 10 natural nos. is :\",sum)    \n",
    "print(\"the product of first 10 natural nos. is :\",product)    "
   ]
  },
  {
   "cell_type": "code",
   "execution_count": 4,
   "id": "4b809e50-07b4-4fcf-992d-2126b1a7fc12",
   "metadata": {},
   "outputs": [
    {
     "name": "stdin",
     "output_type": "stream",
     "text": [
      "enter the units of electricity consumed in a month: 310\n"
     ]
    },
    {
     "name": "stdout",
     "output_type": "stream",
     "text": [
      "the total electric bill is : 2250.0\n"
     ]
    }
   ],
   "source": [
    "##3.\n",
    "unit=int(input(\"enter the units of electricity consumed in a month:\"))\n",
    "bill=1\n",
    "if unit<=100:\n",
    "    bill=unit*4.5\n",
    "elif unit>100 and unit<=200:\n",
    "    bill=100*4.5+(unit-100)*6\n",
    "elif unit>200 and unit<=300:\n",
    "    bill=100*4.5+100*6+(unit-200)*10\n",
    "else :\n",
    "    bill=100*4.5+100*6+100*10+(unit-300)*20\n",
    "    \n",
    "print(\"the total electric bill is :\",bill)    "
   ]
  },
  {
   "cell_type": "code",
   "execution_count": 17,
   "id": "f1b6c72a-2868-49ef-a4c2-4854b075145a",
   "metadata": {},
   "outputs": [
    {
     "data": {
      "text/plain": [
       "[8,\n",
       " 64,\n",
       " 125,\n",
       " 216,\n",
       " 512,\n",
       " 1000,\n",
       " 1728,\n",
       " 2744,\n",
       " 3375,\n",
       " 4096,\n",
       " 5832,\n",
       " 8000,\n",
       " 10648,\n",
       " 13824,\n",
       " 15625,\n",
       " 17576,\n",
       " 21952,\n",
       " 27000,\n",
       " 32768,\n",
       " 39304,\n",
       " 42875,\n",
       " 46656,\n",
       " 54872,\n",
       " 64000,\n",
       " 74088,\n",
       " 85184,\n",
       " 91125,\n",
       " 97336,\n",
       " 110592,\n",
       " 125000,\n",
       " 140608,\n",
       " 157464,\n",
       " 166375,\n",
       " 175616,\n",
       " 195112,\n",
       " 216000,\n",
       " 238328,\n",
       " 262144,\n",
       " 274625,\n",
       " 287496,\n",
       " 314432,\n",
       " 343000,\n",
       " 373248,\n",
       " 405224,\n",
       " 421875,\n",
       " 438976,\n",
       " 474552,\n",
       " 512000,\n",
       " 551368,\n",
       " 592704,\n",
       " 614125,\n",
       " 636056,\n",
       " 681472,\n",
       " 729000,\n",
       " 778688,\n",
       " 830584,\n",
       " 857375,\n",
       " 884736,\n",
       " 941192,\n",
       " 1000000]"
      ]
     },
     "execution_count": 17,
     "metadata": {},
     "output_type": "execute_result"
    }
   ],
   "source": [
    "##4.\n",
    "# using for loop:\n",
    "l=list(range(1,101))\n",
    "l1=[]\n",
    "for i in l:\n",
    "    n=i**3\n",
    "    if n%4==0 or n%5==0:\n",
    "        l1.append(n)\n",
    "l1        "
   ]
  },
  {
   "cell_type": "code",
   "execution_count": 21,
   "id": "862c241f-b4fe-4f5b-83bb-20d7822a4659",
   "metadata": {},
   "outputs": [
    {
     "data": {
      "text/plain": [
       "[8,\n",
       " 64,\n",
       " 125,\n",
       " 216,\n",
       " 512,\n",
       " 1000,\n",
       " 1728,\n",
       " 2744,\n",
       " 3375,\n",
       " 4096,\n",
       " 5832,\n",
       " 8000,\n",
       " 10648,\n",
       " 13824,\n",
       " 15625,\n",
       " 17576,\n",
       " 21952,\n",
       " 27000,\n",
       " 32768,\n",
       " 39304,\n",
       " 42875,\n",
       " 46656,\n",
       " 54872,\n",
       " 64000,\n",
       " 74088,\n",
       " 85184,\n",
       " 91125,\n",
       " 97336,\n",
       " 110592,\n",
       " 125000,\n",
       " 140608,\n",
       " 157464,\n",
       " 166375,\n",
       " 175616,\n",
       " 195112,\n",
       " 216000,\n",
       " 238328,\n",
       " 262144,\n",
       " 274625,\n",
       " 287496,\n",
       " 314432,\n",
       " 343000,\n",
       " 373248,\n",
       " 405224,\n",
       " 421875,\n",
       " 438976,\n",
       " 474552,\n",
       " 512000,\n",
       " 551368,\n",
       " 592704,\n",
       " 614125,\n",
       " 636056,\n",
       " 681472,\n",
       " 729000,\n",
       " 778688,\n",
       " 830584,\n",
       " 857375,\n",
       " 884736,\n",
       " 941192,\n",
       " 1000000]"
      ]
     },
     "execution_count": 21,
     "metadata": {},
     "output_type": "execute_result"
    }
   ],
   "source": [
    "#4\n",
    "# using  while loop\n",
    "l2=[]\n",
    "i=1\n",
    "while i<101:\n",
    "    n=i**3\n",
    "    if n%4==0 or n%5==0:\n",
    "        l2.append(n)\n",
    "    i+=1    \n",
    "l2      "
   ]
  },
  {
   "cell_type": "code",
   "execution_count": 22,
   "id": "43643c2f-151e-4648-8d8e-43da7ca10478",
   "metadata": {},
   "outputs": [
    {
     "data": {
      "text/plain": [
       "True"
      ]
     },
     "execution_count": 22,
     "metadata": {},
     "output_type": "execute_result"
    }
   ],
   "source": [
    "l2==l1"
   ]
  },
  {
   "cell_type": "code",
   "execution_count": 25,
   "id": "727f1560-8ddc-414c-ae35-0b791a49873b",
   "metadata": {},
   "outputs": [
    {
     "data": {
      "text/plain": [
       "12"
      ]
     },
     "execution_count": 25,
     "metadata": {},
     "output_type": "execute_result"
    }
   ],
   "source": [
    "# 5\n",
    "a=\"I want to become a data scientist\"\n",
    "vowels=\"aeiou\"+\"aeiou\".upper()\n",
    "count=0\n",
    "for i in a:\n",
    "    if i in vowels:\n",
    "        count=count+1\n",
    "count        "
   ]
  },
  {
   "cell_type": "code",
   "execution_count": null,
   "id": "c1f1e78e-16dc-46e3-922d-9d4d3aca1918",
   "metadata": {},
   "outputs": [],
   "source": []
  }
 ],
 "metadata": {
  "kernelspec": {
   "display_name": "Python 3 (ipykernel)",
   "language": "python",
   "name": "python3"
  },
  "language_info": {
   "codemirror_mode": {
    "name": "ipython",
    "version": 3
   },
   "file_extension": ".py",
   "mimetype": "text/x-python",
   "name": "python",
   "nbconvert_exporter": "python",
   "pygments_lexer": "ipython3",
   "version": "3.10.8"
  }
 },
 "nbformat": 4,
 "nbformat_minor": 5
}
