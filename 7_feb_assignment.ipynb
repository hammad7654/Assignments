{
 "cells": [
  {
   "cell_type": "markdown",
   "id": "a8a73ee0-8756-4393-bdfb-91a3ae63edc0",
   "metadata": {},
   "source": [
    "\"\"\"Q1. You are writing code for a company. The requirement of the company is that you create a python function\n",
    "that will check whether the password entered by the user is correct or not. \n",
    "The function should take the password as input and return the string “Valid Password” \n",
    "if the entered password follows the below-given password guidelines else it should return “Invalid Password”.\n",
    "Note: 1. The Password should contain at least two uppercase letters and at least two lowercase letters. \n",
    "2. The Password should contain at least a number and three special characters. \n",
    "3. The length of the password should be 10 characters long.\"\"\""
   ]
  },
  {
   "cell_type": "code",
   "execution_count": 56,
   "id": "a7201892-671d-43ef-8b4f-ed2ebaf02540",
   "metadata": {},
   "outputs": [
    {
     "name": "stdin",
     "output_type": "stream",
     "text": [
      "enter your password:  HAMma####9\n"
     ]
    },
    {
     "name": "stdout",
     "output_type": "stream",
     "text": [
      "valid password\n"
     ]
    }
   ],
   "source": [
    "p=input(\"enter your password: \")\n",
    "def password_validation(a):\n",
    "    upper_case=0\n",
    "    lower_case=0\n",
    "    num=0\n",
    "    char=0\n",
    "    for i in  a:\n",
    "        if i.isupper()==True:\n",
    "            upper_case+=1\n",
    "        elif i.isdigit()==True:\n",
    "            num+=1\n",
    "        elif i.isalnum()==False:\n",
    "            char+=1\n",
    "            \n",
    "        else :\n",
    "            lower_case+=1\n",
    "    if upper_case >=2 and lower_case>=2 and num>0 and char>3 and len(a)==10:\n",
    "        print(\"valid password\")\n",
    "    else :\n",
    "        print(\"invalid password\")\n",
    "password_validation(p) "
   ]
  },
  {
   "cell_type": "markdown",
   "id": "6164104a-9c27-4bfe-a5b6-ca0a12568faf",
   "metadata": {},
   "source": [
    "\"\"\"Q2. Solve the below-given questions using at least one of the following:\n",
    "1. Lambda functioJ\n",
    "2. Filter functioJ\n",
    "3. Zap functioJ\n",
    "4. List ComprehensioI\n",
    " Check if the string starts with a particular letter \n",
    " Check if the string is numeric\n",
    " Sort a list of tuples having fruit names and their quantity. [(\"mango\",99),(\"orange\",80), (\"grapes\", 1000)-\n",
    " Find the squares of numbers from 1 to 10\n",
    " Find the cube root of numbers from 1 to 10\n",
    " Check if a given number is even\n",
    " Filter odd numbers from the given list.\n",
    " [1,2,3,4,5,6,7,8,9,10-\n",
    " Sort a list of integers into positive and negative integers lists.\n",
    " [1,2,3,4,5,6,-1,-2,-3,-4,-5,0]\"\"\""
   ]
  },
  {
   "cell_type": "code",
   "execution_count": 3,
   "id": "0ff58d8e-ec0c-4dff-9d55-b8b999d134b9",
   "metadata": {},
   "outputs": [
    {
     "data": {
      "text/plain": [
       "True"
      ]
     },
     "execution_count": 3,
     "metadata": {},
     "output_type": "execute_result"
    }
   ],
   "source": [
    "## Check if the string starts with a particular letter\n",
    "s=\"pwskills\"\n",
    "a=lambda x:True if x[0]=='p' else False\n",
    "a(s)\n",
    "#map function\n",
    "a=list(map(lambda x:True if x[0]=='p' else False,s))\n",
    "a[0]"
   ]
  },
  {
   "cell_type": "code",
   "execution_count": 3,
   "id": "617ef8bb-b0d5-40eb-a116-3b5b72b3f0ff",
   "metadata": {},
   "outputs": [
    {
     "data": {
      "text/plain": [
       "False"
      ]
     },
     "execution_count": 3,
     "metadata": {},
     "output_type": "execute_result"
    }
   ],
   "source": [
    "##Check if the string is numeric\n",
    "a='123'\n",
    "a1=\"hammad\"\n",
    "b=lambda x:True if x.isdigit()==True else False\n",
    "b(a)\n",
    "b(a1)"
   ]
  },
  {
   "cell_type": "code",
   "execution_count": 15,
   "id": "94e3f5d5-8a7b-484a-91b6-7ee4ef7b0aaa",
   "metadata": {},
   "outputs": [
    {
     "data": {
      "text/plain": [
       "[('orange', 80), ('mango', 99), ('grapes', 1000)]"
      ]
     },
     "execution_count": 15,
     "metadata": {},
     "output_type": "execute_result"
    }
   ],
   "source": [
    "\"\"\"Sort a list of tuples having fruit names and their quantity. [(\"mango\",99),(\"orange\",80), (\"grapes\", 1000)-\"\"\"\n",
    "a=[(\"mango\",99),(\"orange\",80), (\"grapes\", 1000)]\n",
    "## using map function\n",
    "## sorting the given list using lambda function taking key values as second element of tuples.\n",
    "a.sort(key= lambda a:a[1])\n",
    "a"
   ]
  },
  {
   "cell_type": "code",
   "execution_count": 16,
   "id": "adcd323a-bb8d-4040-a79e-a19230f24265",
   "metadata": {},
   "outputs": [
    {
     "data": {
      "text/plain": [
       "[1, 4, 9, 16, 25, 36, 49, 64, 81, 100]"
      ]
     },
     "execution_count": 16,
     "metadata": {},
     "output_type": "execute_result"
    }
   ],
   "source": [
    "#Find the squares of numbers from 1 to 10\n",
    "l=[1,2,3,4,5,6,7,8,9,10]\n",
    "list(map(lambda x:x**2,l))"
   ]
  },
  {
   "cell_type": "code",
   "execution_count": 17,
   "id": "541bb8a8-d65f-41e9-b56c-7dd9b2c9227b",
   "metadata": {},
   "outputs": [
    {
     "data": {
      "text/plain": [
       "[1, 8, 27, 64, 125, 216, 343, 512, 729, 1000]"
      ]
     },
     "execution_count": 17,
     "metadata": {},
     "output_type": "execute_result"
    }
   ],
   "source": [
    "#Find the cube root of numbers from 1 to 10\n",
    "l=[1,2,3,4,5,6,7,8,9,10]\n",
    "list(map(lambda x:x**3,l))"
   ]
  },
  {
   "cell_type": "code",
   "execution_count": 7,
   "id": "721d29e4-596d-42ad-a6a2-73935ee526a3",
   "metadata": {},
   "outputs": [
    {
     "data": {
      "text/plain": [
       "False"
      ]
     },
     "execution_count": 7,
     "metadata": {},
     "output_type": "execute_result"
    }
   ],
   "source": [
    "#Check if a given number is even\n",
    "a=lambda x: True if x%2==0  else False\n",
    "a(7)"
   ]
  },
  {
   "cell_type": "code",
   "execution_count": 9,
   "id": "881854f1-0c26-4800-9d57-b4c12302fc9b",
   "metadata": {},
   "outputs": [
    {
     "data": {
      "text/plain": [
       "[1, 3, 5, 7, 9]"
      ]
     },
     "execution_count": 9,
     "metadata": {},
     "output_type": "execute_result"
    }
   ],
   "source": [
    "#Filter odd numbers from the given list.\n",
    "#[1,2,3,4,5,6,7,8,9,10]\n",
    "l=[1,2,3,4,5,6,7,8,9,10]\n",
    "list(filter(lambda x:x if x%2!=0 else False ,l))"
   ]
  },
  {
   "cell_type": "code",
   "execution_count": 42,
   "id": "641049b9-be8b-4773-b405-0a1a1d189e0f",
   "metadata": {},
   "outputs": [
    {
     "name": "stdout",
     "output_type": "stream",
     "text": [
      "list of positive integers:  [1, 2, 3, 4, 5, 6, 0]\n",
      "list of negative integers : [-1, -2, -3, -4, -5]\n"
     ]
    }
   ],
   "source": [
    "##Sort a list of integers into positive and negative integers lists.\n",
    "#[1,2,3,4,5,6,-1,-2,-3,-4,-5,0]\n",
    "a=[1,2,3,4,5,6,-1,-2,-3,-4,-5,0]\n",
    "l=[]\n",
    "l1=[]\n",
    "list(map(lambda x:l.append(x) if x>=0 else l1.append(x) ,a))\n",
    "print(\"list of positive integers: \",l)\n",
    "print(\"list of negative integers :\",l1)"
   ]
  },
  {
   "cell_type": "code",
   "execution_count": null,
   "id": "e5760d2a-ef33-40a5-b91e-ff889568648d",
   "metadata": {},
   "outputs": [],
   "source": []
  }
 ],
 "metadata": {
  "kernelspec": {
   "display_name": "Python 3 (ipykernel)",
   "language": "python",
   "name": "python3"
  },
  "language_info": {
   "codemirror_mode": {
    "name": "ipython",
    "version": 3
   },
   "file_extension": ".py",
   "mimetype": "text/x-python",
   "name": "python",
   "nbconvert_exporter": "python",
   "pygments_lexer": "ipython3",
   "version": "3.10.8"
  }
 },
 "nbformat": 4,
 "nbformat_minor": 5
}
